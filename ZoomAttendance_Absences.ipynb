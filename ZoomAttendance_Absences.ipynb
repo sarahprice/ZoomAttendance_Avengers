{
 "cells": [
  {
   "cell_type": "code",
   "execution_count": null,
   "metadata": {},
   "outputs": [],
   "source": [
    "#activate myenv in terminal\n",
    "#set path in order for relative paths to work\n",
    "import glob\n",
    "import pandas as pd"
   ]
  },
  {
   "cell_type": "code",
   "execution_count": 2,
   "metadata": {},
   "outputs": [
    {
     "name": "stdout",
     "output_type": "stream",
     "text": [
      "C:/Users/campb/OneDrive/Documents/Personal/RandomPythonScripts/Zoom_Attendance_pipeline/In_ZoomAttendance_rawCSVs/\n"
     ]
    }
   ],
   "source": [
    "#path that holds all the saved Zoom Reports csv's downloaded from Zoom. \n",
    "path = \"C:/Users/campb/OneDrive/Documents/Personal/RandomPythonScripts/Zoom_Attendance_pipeline/In_ZoomAttendance_rawCSVs/\"\n",
    "\n",
    "\n",
    "files = glob.glob(path + '\\*.csv')"
   ]
  },
  {
   "cell_type": "code",
   "execution_count": 3,
   "metadata": {},
   "outputs": [],
   "source": [
    "#Define empty list to store content\n",
    "data_frame = pd.DataFrame()\n",
    "content = []\n",
    "\n",
    "for filename in files:\n",
    "    df = pd.read_csv(filename, index_col=None)\n",
    "    content.append(df)\n",
    "\n",
    "# convervting content into data_frame\n",
    "data_frame = pd.concat(content)"
   ]
  },
  {
   "cell_type": "code",
   "execution_count": 4,
   "metadata": {},
   "outputs": [
    {
     "name": "stdout",
     "output_type": "stream",
     "text": [
      "                     User Name        Join time       Leave time  \\\n",
      "0   natalia alianovna romanova   2/1/2022 10:37   2/1/2022 12:10   \n",
      "1               janet van dyne   2/1/2022 10:45   2/1/2022 10:45   \n",
      "2               simon williams   2/1/2022 10:45   2/1/2022 12:10   \n",
      "3              james r. rhodes   2/1/2022 10:49   2/1/2022 12:10   \n",
      "4     carol susan jane danvers   2/1/2022 10:49   2/1/2022 12:10   \n",
      "..                         ...              ...              ...   \n",
      "79          greer grant nelson  3/22/2022 12:06  3/22/2022 12:15   \n",
      "80              wanda maximoff  3/22/2022 12:22  3/22/2022 12:22   \n",
      "81             james r. rhodes  3/22/2022 11:46  3/22/2022 12:03   \n",
      "82                  charlie-27  3/22/2022 12:02  3/22/2022 12:15   \n",
      "83             james r. rhodes  3/22/2022 12:04  3/22/2022 12:15   \n",
      "\n",
      "    Duration(Minutes)  Attentiveness Score  Unnamed: 5 Unnamed: 6 Unnamed: 7  \n",
      "0                94.0                  NaN         NaN        NaN        NaN  \n",
      "1                 1.0                  NaN         NaN        NaN        NaN  \n",
      "2                85.0                  NaN         NaN        NaN        NaN  \n",
      "3                82.0                  NaN         NaN        NaN        NaN  \n",
      "4                81.0                  NaN         NaN        NaN        NaN  \n",
      "..                ...                  ...         ...        ...        ...  \n",
      "79                9.0                  NaN         NaN        NaN        NaN  \n",
      "80                1.0                  NaN         NaN        NaN        NaN  \n",
      "81               18.0                  NaN         NaN        NaN        NaN  \n",
      "82               14.0                  NaN         NaN        NaN        NaN  \n",
      "83               12.0                  NaN         NaN        NaN        NaN  \n",
      "\n",
      "[1179 rows x 8 columns]\n"
     ]
    }
   ],
   "source": [
    "print(data_frame)"
   ]
  },
  {
   "cell_type": "code",
   "execution_count": 5,
   "metadata": {},
   "outputs": [],
   "source": [
    "#Replace spaces in column names with an underscore (to remove spaces in the column so it's easier to split)\n",
    "data_frame.columns = data_frame.columns.str.replace(' ', '_')"
   ]
  },
  {
   "cell_type": "code",
   "execution_count": 6,
   "metadata": {},
   "outputs": [],
   "source": [
    "#split 'Join time' column into new columns named 'Date' and 'Join'\n",
    "data_frame[['Date','Join']]=data_frame.Join_time.str.split(' ', n=1, expand= True)"
   ]
  },
  {
   "cell_type": "code",
   "execution_count": 7,
   "metadata": {},
   "outputs": [],
   "source": [
    "##retains columns of interest\n",
    "data_frame_clean = data_frame.loc[:,['User_Name','Duration(Minutes)','Date']]"
   ]
  },
  {
   "cell_type": "code",
   "execution_count": 8,
   "metadata": {},
   "outputs": [],
   "source": [
    "#Context: Some students joined Lecture more than once per lecture (e.g., if their internet kicked them off of zoom, they had to rejoin the meeting)\n",
    "##Task: For each student (User_Name) and lecture (Date), sum the 'Duration(Minutes)'.\n",
    "data_frame_clean_SumDura = data_frame_clean.groupby([\"User_Name\", \"Date\"])[\"Duration(Minutes)\"].sum()\n",
    "df = data_frame_clean_SumDura.unstack()"
   ]
  },
  {
   "cell_type": "code",
   "execution_count": 9,
   "metadata": {},
   "outputs": [],
   "source": [
    "#Calculate number of absences (i.e., number of \"NaN\") per student\n",
    "#add column (i.e. ['Absences']) that calculates the number of NaN (is.null()) per row (for row use 'axis = 1')\n",
    "df['Absences'] = df.isnull().sum(axis=1)"
   ]
  },
  {
   "cell_type": "code",
   "execution_count": 10,
   "metadata": {},
   "outputs": [],
   "source": [
    "df.to_csv('C:/Users/campb/OneDrive/Documents/Personal/RandomPythonScripts/Zoom_Attendance_pipeline/Out_ZoomAttendance_compiled/ZoomAttendance_Concatted_WideTable.csv')"
   ]
  }
 ],
 "metadata": {
  "kernelspec": {
   "display_name": "Python 3",
   "language": "python",
   "name": "python3"
  },
  "language_info": {
   "codemirror_mode": {
    "name": "ipython",
    "version": 3
   },
   "file_extension": ".py",
   "mimetype": "text/x-python",
   "name": "python",
   "nbconvert_exporter": "python",
   "pygments_lexer": "ipython3",
   "version": "3.8.3"
  }
 },
 "nbformat": 4,
 "nbformat_minor": 4
}
